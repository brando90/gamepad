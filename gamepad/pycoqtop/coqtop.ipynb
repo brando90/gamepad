{
 "cells": [
  {
   "cell_type": "code",
   "execution_count": null,
   "metadata": {},
   "outputs": [],
   "source": [
    "from coqtop import CoqTop\n",
    "\n",
    "top = CoqTop()\n",
    "top.__enter__()\n",
    "\n",
    "r = top.sendone(\"Lemma foobar: forall n: nat, S n = 1 + n.\")\n",
    "print(r)"
   ]
  },
  {
   "cell_type": "code",
   "execution_count": null,
   "metadata": {},
   "outputs": [],
   "source": [
    "r = top.sendone(\"intros.\")\n",
    "print(r)"
   ]
  },
  {
   "cell_type": "code",
   "execution_count": null,
   "metadata": {},
   "outputs": [],
   "source": [
    "r = top.sendone(\"apply n.\")\n",
    "print(r)\n",
    "print(\"Error\" in r)"
   ]
  },
  {
   "cell_type": "code",
   "execution_count": null,
   "metadata": {},
   "outputs": [],
   "source": [
    "r = top.sendone(\"reflexivity.\")\n",
    "print(r)"
   ]
  },
  {
   "cell_type": "code",
   "execution_count": null,
   "metadata": {},
   "outputs": [],
   "source": [
    "r = top.sendone(\"Qed.\")\n",
    "print(r)"
   ]
  },
  {
   "cell_type": "code",
   "execution_count": null,
   "metadata": {
    "collapsed": true
   },
   "outputs": [],
   "source": [
    "out += [top.sendone(\"Proof.\")]\n",
    "out += [top.sendone(\"intros.\")]\n",
    "out += [top.sendone(\"Qed.\")]\n",
    "# out += [top.sendone(\"Undo.\")]\n",
    "out += [top.sendone(\"reflexivity.\")]\n",
    "out += [top.sendone(\"Qed.\")]"
   ]
  },
  {
   "cell_type": "code",
   "execution_count": null,
   "metadata": {
    "collapsed": true
   },
   "outputs": [],
   "source": [
    "from coqtop import CoqTop\n",
    "\n",
    "top = CoqTop()\n",
    "top.__enter__()\n",
    "\n",
    "out = []\n",
    "out += [top.sendone(\"Lemma foobar: forall n: nat, n = n.\")]\n",
    "out += [top.sendone(\"Proof.\")]\n",
    "out += [top.sendone(\"intros.\")]\n",
    "# out += [top.sendone(\"Qed.\")]\n",
    "# out += [top.sendone(\"Undo.\")]\n",
    "out += [top.sendone(\"reflexivity.\")]\n",
    "out += [top.sendone(\"Qed.\")]"
   ]
  },
  {
   "cell_type": "code",
   "execution_count": null,
   "metadata": {
    "collapsed": true
   },
   "outputs": [],
   "source": [
    "for i, s in enumerate(out):\n",
    "    print(\"TACTIC\", i, s)\n"
   ]
  },
  {
   "cell_type": "code",
   "execution_count": null,
   "metadata": {
    "collapsed": true
   },
   "outputs": [],
   "source": [
    "r = top.sendone(\"intros.\")\n",
    "print(r)"
   ]
  },
  {
   "cell_type": "code",
   "execution_count": null,
   "metadata": {
    "collapsed": true
   },
   "outputs": [],
   "source": [
    "r = top.sendone(\"reflexivity.\")\n",
    "print(r)"
   ]
  },
  {
   "cell_type": "code",
   "execution_count": null,
   "metadata": {
    "collapsed": true
   },
   "outputs": [],
   "source": [
    "r = top.sendone(\"Qed.\")\n",
    "print(r)"
   ]
  },
  {
   "cell_type": "code",
   "execution_count": null,
   "metadata": {
    "collapsed": true
   },
   "outputs": [],
   "source": []
  }
 ],
 "metadata": {
  "kernelspec": {
   "display_name": "ragnarok3",
   "language": "python",
   "name": "ragnarok3"
  },
  "language_info": {
   "codemirror_mode": {
    "name": "ipython",
    "version": 3
   },
   "file_extension": ".py",
   "mimetype": "text/x-python",
   "name": "python",
   "nbconvert_exporter": "python",
   "pygments_lexer": "ipython3",
   "version": "3.6.2"
  }
 },
 "nbformat": 4,
 "nbformat_minor": 2
}
